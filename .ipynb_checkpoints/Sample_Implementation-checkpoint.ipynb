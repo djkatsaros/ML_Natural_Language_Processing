{
 "cells": [
  {
   "cell_type": "markdown",
   "metadata": {},
   "source": [
    "# This is a sample implementation of the code as a notebook for the kaggle competition. "
   ]
  },
  {
   "cell_type": "code",
   "execution_count": 1,
   "metadata": {
    "_cell_guid": "b1076dfc-b9ad-4769-8c92-a6c4dae69d19",
    "_uuid": "8f2839f25d086af736a60e9eeb907d3b93b6e0e5",
    "execution": {
     "iopub.execute_input": "2024-04-22T17:27:40.489478Z",
     "iopub.status.busy": "2024-04-22T17:27:40.489052Z",
     "iopub.status.idle": "2024-04-22T17:27:40.505304Z",
     "shell.execute_reply": "2024-04-22T17:27:40.503874Z",
     "shell.execute_reply.started": "2024-04-22T17:27:40.489444Z"
    }
   },
   "outputs": [],
   "source": [
    "# imports\n",
    "\n",
    "import numpy as np # linear algebra\n",
    "import pandas as pd # data processing, CSV file I/O (e.g. pd.read_csv)\n",
    "import re\n",
    "from collections import Counter"
   ]
  },
  {
   "cell_type": "code",
   "execution_count": 64,
   "metadata": {
    "execution": {
     "iopub.execute_input": "2024-04-22T17:27:41.926061Z",
     "iopub.status.busy": "2024-04-22T17:27:41.925625Z",
     "iopub.status.idle": "2024-04-22T17:27:42.300693Z",
     "shell.execute_reply": "2024-04-22T17:27:42.299110Z",
     "shell.execute_reply.started": "2024-04-22T17:27:41.926027Z"
    }
   },
   "outputs": [],
   "source": [
    "train_raw = pd.read_csv('/kaggle/input/sentiment-analysis-on-movie-reviews/train.tsv.zip',\n",
    "                        header = 0, \n",
    "                        delimiter = '\\t',\n",
    "                        quoting=3)\n",
    "test_raw = pd.read_csv('/kaggle/input/sentiment-analysis-on-movie-reviews/test.tsv.zip', sep=\"\\t\")"
   ]
  },
  {
   "cell_type": "markdown",
   "metadata": {},
   "source": [
    "#  EDA #\n",
    " **The dataset consists of sentences split into smaller phrases on which as sentiment score is assigned. Many of the sentiments are just single words. This makes classification difficult.**\n",
    "\n",
    "**Firstly, let's look at what the phrases coming from the 6th (arbitrary number) sentence look like.**"
   ]
  },
  {
   "cell_type": "code",
   "execution_count": 65,
   "metadata": {
    "execution": {
     "iopub.execute_input": "2024-04-22T17:27:45.546313Z",
     "iopub.status.busy": "2024-04-22T17:27:45.545853Z",
     "iopub.status.idle": "2024-04-22T17:27:45.570186Z",
     "shell.execute_reply": "2024-04-22T17:27:45.568988Z",
     "shell.execute_reply.started": "2024-04-22T17:27:45.546277Z"
    }
   },
   "outputs": [
    {
     "data": {
      "text/html": [
       "<div>\n",
       "<style scoped>\n",
       "    .dataframe tbody tr th:only-of-type {\n",
       "        vertical-align: middle;\n",
       "    }\n",
       "\n",
       "    .dataframe tbody tr th {\n",
       "        vertical-align: top;\n",
       "    }\n",
       "\n",
       "    .dataframe thead th {\n",
       "        text-align: right;\n",
       "    }\n",
       "</style>\n",
       "<table border=\"1\" class=\"dataframe\">\n",
       "  <thead>\n",
       "    <tr style=\"text-align: right;\">\n",
       "      <th></th>\n",
       "      <th>PhraseId</th>\n",
       "      <th>SentenceId</th>\n",
       "      <th>Phrase</th>\n",
       "      <th>Sentiment</th>\n",
       "    </tr>\n",
       "  </thead>\n",
       "  <tbody>\n",
       "    <tr>\n",
       "      <th>166</th>\n",
       "      <td>167</td>\n",
       "      <td>6</td>\n",
       "      <td>A comedy-drama of nearly epic proportions root...</td>\n",
       "      <td>4</td>\n",
       "    </tr>\n",
       "    <tr>\n",
       "      <th>167</th>\n",
       "      <td>168</td>\n",
       "      <td>6</td>\n",
       "      <td>A comedy-drama of nearly epic proportions</td>\n",
       "      <td>3</td>\n",
       "    </tr>\n",
       "    <tr>\n",
       "      <th>168</th>\n",
       "      <td>169</td>\n",
       "      <td>6</td>\n",
       "      <td>A comedy-drama</td>\n",
       "      <td>2</td>\n",
       "    </tr>\n",
       "    <tr>\n",
       "      <th>169</th>\n",
       "      <td>170</td>\n",
       "      <td>6</td>\n",
       "      <td>comedy-drama</td>\n",
       "      <td>2</td>\n",
       "    </tr>\n",
       "    <tr>\n",
       "      <th>170</th>\n",
       "      <td>171</td>\n",
       "      <td>6</td>\n",
       "      <td>of nearly epic proportions</td>\n",
       "      <td>3</td>\n",
       "    </tr>\n",
       "    <tr>\n",
       "      <th>171</th>\n",
       "      <td>172</td>\n",
       "      <td>6</td>\n",
       "      <td>nearly epic proportions</td>\n",
       "      <td>2</td>\n",
       "    </tr>\n",
       "    <tr>\n",
       "      <th>172</th>\n",
       "      <td>173</td>\n",
       "      <td>6</td>\n",
       "      <td>nearly epic</td>\n",
       "      <td>4</td>\n",
       "    </tr>\n",
       "    <tr>\n",
       "      <th>173</th>\n",
       "      <td>174</td>\n",
       "      <td>6</td>\n",
       "      <td>nearly</td>\n",
       "      <td>2</td>\n",
       "    </tr>\n",
       "    <tr>\n",
       "      <th>174</th>\n",
       "      <td>175</td>\n",
       "      <td>6</td>\n",
       "      <td>epic</td>\n",
       "      <td>3</td>\n",
       "    </tr>\n",
       "    <tr>\n",
       "      <th>175</th>\n",
       "      <td>176</td>\n",
       "      <td>6</td>\n",
       "      <td>proportions</td>\n",
       "      <td>2</td>\n",
       "    </tr>\n",
       "    <tr>\n",
       "      <th>176</th>\n",
       "      <td>177</td>\n",
       "      <td>6</td>\n",
       "      <td>rooted in a sincere performance by the title c...</td>\n",
       "      <td>4</td>\n",
       "    </tr>\n",
       "    <tr>\n",
       "      <th>177</th>\n",
       "      <td>178</td>\n",
       "      <td>6</td>\n",
       "      <td>rooted in a sincere performance by the title c...</td>\n",
       "      <td>3</td>\n",
       "    </tr>\n",
       "    <tr>\n",
       "      <th>178</th>\n",
       "      <td>179</td>\n",
       "      <td>6</td>\n",
       "      <td>rooted in a sincere performance</td>\n",
       "      <td>3</td>\n",
       "    </tr>\n",
       "    <tr>\n",
       "      <th>179</th>\n",
       "      <td>180</td>\n",
       "      <td>6</td>\n",
       "      <td>rooted</td>\n",
       "      <td>3</td>\n",
       "    </tr>\n",
       "    <tr>\n",
       "      <th>180</th>\n",
       "      <td>181</td>\n",
       "      <td>6</td>\n",
       "      <td>in a sincere performance</td>\n",
       "      <td>4</td>\n",
       "    </tr>\n",
       "    <tr>\n",
       "      <th>181</th>\n",
       "      <td>182</td>\n",
       "      <td>6</td>\n",
       "      <td>in</td>\n",
       "      <td>2</td>\n",
       "    </tr>\n",
       "    <tr>\n",
       "      <th>182</th>\n",
       "      <td>183</td>\n",
       "      <td>6</td>\n",
       "      <td>a sincere performance</td>\n",
       "      <td>4</td>\n",
       "    </tr>\n",
       "    <tr>\n",
       "      <th>183</th>\n",
       "      <td>184</td>\n",
       "      <td>6</td>\n",
       "      <td>sincere performance</td>\n",
       "      <td>4</td>\n",
       "    </tr>\n",
       "    <tr>\n",
       "      <th>184</th>\n",
       "      <td>185</td>\n",
       "      <td>6</td>\n",
       "      <td>sincere</td>\n",
       "      <td>3</td>\n",
       "    </tr>\n",
       "    <tr>\n",
       "      <th>185</th>\n",
       "      <td>186</td>\n",
       "      <td>6</td>\n",
       "      <td>performance</td>\n",
       "      <td>2</td>\n",
       "    </tr>\n",
       "    <tr>\n",
       "      <th>186</th>\n",
       "      <td>187</td>\n",
       "      <td>6</td>\n",
       "      <td>by the title character undergoing midlife crisis</td>\n",
       "      <td>2</td>\n",
       "    </tr>\n",
       "    <tr>\n",
       "      <th>187</th>\n",
       "      <td>188</td>\n",
       "      <td>6</td>\n",
       "      <td>by</td>\n",
       "      <td>2</td>\n",
       "    </tr>\n",
       "    <tr>\n",
       "      <th>188</th>\n",
       "      <td>189</td>\n",
       "      <td>6</td>\n",
       "      <td>the title character undergoing midlife crisis</td>\n",
       "      <td>2</td>\n",
       "    </tr>\n",
       "    <tr>\n",
       "      <th>189</th>\n",
       "      <td>190</td>\n",
       "      <td>6</td>\n",
       "      <td>the title character</td>\n",
       "      <td>2</td>\n",
       "    </tr>\n",
       "    <tr>\n",
       "      <th>190</th>\n",
       "      <td>191</td>\n",
       "      <td>6</td>\n",
       "      <td>title character</td>\n",
       "      <td>2</td>\n",
       "    </tr>\n",
       "    <tr>\n",
       "      <th>191</th>\n",
       "      <td>192</td>\n",
       "      <td>6</td>\n",
       "      <td>title</td>\n",
       "      <td>2</td>\n",
       "    </tr>\n",
       "    <tr>\n",
       "      <th>192</th>\n",
       "      <td>193</td>\n",
       "      <td>6</td>\n",
       "      <td>character</td>\n",
       "      <td>2</td>\n",
       "    </tr>\n",
       "    <tr>\n",
       "      <th>193</th>\n",
       "      <td>194</td>\n",
       "      <td>6</td>\n",
       "      <td>undergoing midlife crisis</td>\n",
       "      <td>2</td>\n",
       "    </tr>\n",
       "    <tr>\n",
       "      <th>194</th>\n",
       "      <td>195</td>\n",
       "      <td>6</td>\n",
       "      <td>undergoing</td>\n",
       "      <td>2</td>\n",
       "    </tr>\n",
       "    <tr>\n",
       "      <th>195</th>\n",
       "      <td>196</td>\n",
       "      <td>6</td>\n",
       "      <td>midlife crisis</td>\n",
       "      <td>1</td>\n",
       "    </tr>\n",
       "    <tr>\n",
       "      <th>196</th>\n",
       "      <td>197</td>\n",
       "      <td>6</td>\n",
       "      <td>midlife</td>\n",
       "      <td>2</td>\n",
       "    </tr>\n",
       "    <tr>\n",
       "      <th>197</th>\n",
       "      <td>198</td>\n",
       "      <td>6</td>\n",
       "      <td>crisis</td>\n",
       "      <td>2</td>\n",
       "    </tr>\n",
       "  </tbody>\n",
       "</table>\n",
       "</div>"
      ],
      "text/plain": [
       "     PhraseId  SentenceId                                             Phrase  \\\n",
       "166       167           6  A comedy-drama of nearly epic proportions root...   \n",
       "167       168           6          A comedy-drama of nearly epic proportions   \n",
       "168       169           6                                     A comedy-drama   \n",
       "169       170           6                                       comedy-drama   \n",
       "170       171           6                         of nearly epic proportions   \n",
       "171       172           6                            nearly epic proportions   \n",
       "172       173           6                                        nearly epic   \n",
       "173       174           6                                             nearly   \n",
       "174       175           6                                               epic   \n",
       "175       176           6                                        proportions   \n",
       "176       177           6  rooted in a sincere performance by the title c...   \n",
       "177       178           6  rooted in a sincere performance by the title c...   \n",
       "178       179           6                    rooted in a sincere performance   \n",
       "179       180           6                                             rooted   \n",
       "180       181           6                           in a sincere performance   \n",
       "181       182           6                                                 in   \n",
       "182       183           6                              a sincere performance   \n",
       "183       184           6                                sincere performance   \n",
       "184       185           6                                            sincere   \n",
       "185       186           6                                        performance   \n",
       "186       187           6   by the title character undergoing midlife crisis   \n",
       "187       188           6                                                 by   \n",
       "188       189           6      the title character undergoing midlife crisis   \n",
       "189       190           6                                the title character   \n",
       "190       191           6                                    title character   \n",
       "191       192           6                                              title   \n",
       "192       193           6                                          character   \n",
       "193       194           6                          undergoing midlife crisis   \n",
       "194       195           6                                         undergoing   \n",
       "195       196           6                                     midlife crisis   \n",
       "196       197           6                                            midlife   \n",
       "197       198           6                                             crisis   \n",
       "\n",
       "     Sentiment  \n",
       "166          4  \n",
       "167          3  \n",
       "168          2  \n",
       "169          2  \n",
       "170          3  \n",
       "171          2  \n",
       "172          4  \n",
       "173          2  \n",
       "174          3  \n",
       "175          2  \n",
       "176          4  \n",
       "177          3  \n",
       "178          3  \n",
       "179          3  \n",
       "180          4  \n",
       "181          2  \n",
       "182          4  \n",
       "183          4  \n",
       "184          3  \n",
       "185          2  \n",
       "186          2  \n",
       "187          2  \n",
       "188          2  \n",
       "189          2  \n",
       "190          2  \n",
       "191          2  \n",
       "192          2  \n",
       "193          2  \n",
       "194          2  \n",
       "195          1  \n",
       "196          2  \n",
       "197          2  "
      ]
     },
     "execution_count": 65,
     "metadata": {},
     "output_type": "execute_result"
    }
   ],
   "source": [
    "train_raw.loc[train_raw.SentenceId == 6]"
   ]
  },
  {
   "cell_type": "markdown",
   "metadata": {},
   "source": [
    "**Examining this split, we see that a sentence has been split into 20+ phrases with sentiments varying from 1 to 4 (0 is also possible but this example doesn't exhibit this). We can also see that there can be very different scores assigned to words or phrase differing by only a few words, especially for short phrases. For example, \"midlife crisis\" is given sentiment score 1 vs \"midlife\" is given sentiment score 2. This hints it may be important to retain most information, such as punctuation and the so called \"stopwords\" commonly deleted during text preprocessing in NLP tasks. We also see that there is little correlation between length of the phrase and the sentiment, so phrase length is not a feature worth adding.** "
   ]
  },
  {
   "cell_type": "markdown",
   "metadata": {},
   "source": [
    "**Collect some basic statistics about the phrases in a sentence. For example, how many sentences on average come from a given sentence?**"
   ]
  },
  {
   "cell_type": "code",
   "execution_count": 66,
   "metadata": {
    "execution": {
     "iopub.execute_input": "2024-04-22T17:28:41.396844Z",
     "iopub.status.busy": "2024-04-22T17:28:41.396338Z",
     "iopub.status.idle": "2024-04-22T17:28:41.446562Z",
     "shell.execute_reply": "2024-04-22T17:28:41.444715Z",
     "shell.execute_reply.started": "2024-04-22T17:28:41.396808Z"
    }
   },
   "outputs": [
    {
     "name": "stdout",
     "output_type": "stream",
     "text": [
      "Average count of phrases per sentence in train is 18.\n",
      "Average count of phrases per sentence in test is 20.\n"
     ]
    }
   ],
   "source": [
    "print('Average count of phrases per sentence in train is {0:.0f}.'.format(train_raw.groupby('SentenceId')['Phrase'].count().mean()))\n",
    "print('Average count of phrases per sentence in test is {0:.0f}.'.format(test_raw.groupby('SentenceId')['Phrase'].count().mean()))"
   ]
  },
  {
   "cell_type": "markdown",
   "metadata": {},
   "source": [
    "**On average the number of phrases is about 19, and is similar between the test and training set. What's the average length of a phrase in the training dataset?**"
   ]
  },
  {
   "cell_type": "code",
   "execution_count": 67,
   "metadata": {
    "execution": {
     "iopub.execute_input": "2024-04-22T17:29:48.105493Z",
     "iopub.status.busy": "2024-04-22T17:29:48.105009Z",
     "iopub.status.idle": "2024-04-22T17:29:48.332245Z",
     "shell.execute_reply": "2024-04-22T17:29:48.330842Z",
     "shell.execute_reply.started": "2024-04-22T17:29:48.105458Z"
    }
   },
   "outputs": [
    {
     "name": "stdout",
     "output_type": "stream",
     "text": [
      "Average word length of phrases in train is 7.\n"
     ]
    }
   ],
   "source": [
    "print('Average length of phrases in train is {0:.0f}.'.format(np.mean(train_raw['Phrase'].apply(lambda x: len(x.split())))))"
   ]
  },
  {
   "cell_type": "markdown",
   "metadata": {},
   "source": [
    "**Let's look at the proportion of each sentiment.**"
   ]
  },
  {
   "cell_type": "code",
   "execution_count": 11,
   "metadata": {
    "execution": {
     "iopub.execute_input": "2024-04-22T16:55:41.087018Z",
     "iopub.status.busy": "2024-04-22T16:55:41.086225Z",
     "iopub.status.idle": "2024-04-22T16:55:41.104917Z",
     "shell.execute_reply": "2024-04-22T16:55:41.103485Z",
     "shell.execute_reply.started": "2024-04-22T16:55:41.086979Z"
    }
   },
   "outputs": [
    {
     "data": {
      "text/plain": [
       "Sentiment\n",
       "2    0.509945\n",
       "3    0.210989\n",
       "1    0.174760\n",
       "4    0.058990\n",
       "0    0.045316\n",
       "Name: proportion, dtype: float64"
      ]
     },
     "execution_count": 11,
     "metadata": {},
     "output_type": "execute_result"
    }
   ],
   "source": [
    "train_raw.Sentiment.value_counts(normalize = True)"
   ]
  },
  {
   "cell_type": "code",
   "execution_count": 68,
   "metadata": {
    "execution": {
     "iopub.execute_input": "2024-04-22T17:34:28.585060Z",
     "iopub.status.busy": "2024-04-22T17:34:28.584586Z",
     "iopub.status.idle": "2024-04-22T17:34:28.853070Z",
     "shell.execute_reply": "2024-04-22T17:34:28.851671Z",
     "shell.execute_reply.started": "2024-04-22T17:34:28.585025Z"
    }
   },
   "outputs": [
    {
     "data": {
      "text/plain": [
       "<Axes: xlabel='Sentiment'>"
      ]
     },
     "execution_count": 68,
     "metadata": {},
     "output_type": "execute_result"
    },
    {
     "data": {
      "image/png": "[encoded data removed]",
      "text/plain": [
       "<Figure size 640x480 with 1 Axes>"
      ]
     },
     "metadata": {},
     "output_type": "display_data"
    }
   ],
   "source": [
    "train_raw.Sentiment.value_counts(normalize = True).sort_index().plot(kind='bar')"
   ]
  },
  {
   "cell_type": "markdown",
   "metadata": {},
   "source": [
    "**Unsurpringly, the most popular sentiment is a 3 out of 5, corresponding to a 'neutral' opinion.**"
   ]
  },
  {
   "cell_type": "markdown",
   "metadata": {},
   "source": [
    "# Further Preparations # "
   ]
  },
  {
   "cell_type": "code",
   "execution_count": 69,
   "metadata": {
    "execution": {
     "iopub.execute_input": "2024-04-22T17:37:26.998466Z",
     "iopub.status.busy": "2024-04-22T17:37:26.997971Z",
     "iopub.status.idle": "2024-04-22T17:37:27.006302Z",
     "shell.execute_reply": "2024-04-22T17:37:27.004894Z",
     "shell.execute_reply.started": "2024-04-22T17:37:26.998432Z"
    }
   },
   "outputs": [
    {
     "name": "stdout",
     "output_type": "stream",
     "text": [
      "[nltk_data] Downloading package stopwords to /usr/share/nltk_data...\n",
      "[nltk_data]   Package stopwords is already up-to-date!\n"
     ]
    }
   ],
   "source": [
    "# Import modules from natural language toolkit\n",
    "import nltk\n",
    "nltk.download('stopwords')\n",
    "from nltk.stem import PorterStemmer, SnowballStemmer\n",
    "from nltk.tokenize import word_tokenize\n",
    "from nltk.corpus import stopwords\n",
    "from nltk.util import ngrams"
   ]
  },
  {
   "cell_type": "markdown",
   "metadata": {},
   "source": [
    "**Let's check the 3-grams (without stopwords).**"
   ]
  },
  {
   "cell_type": "code",
   "execution_count": 16,
   "metadata": {
    "execution": {
     "iopub.execute_input": "2024-04-22T16:55:59.554312Z",
     "iopub.status.busy": "2024-04-22T16:55:59.553190Z",
     "iopub.status.idle": "2024-04-22T16:56:13.417100Z",
     "shell.execute_reply": "2024-04-22T16:56:13.416022Z",
     "shell.execute_reply.started": "2024-04-22T16:55:59.554271Z"
    }
   },
   "outputs": [
    {
     "data": {
      "text/plain": [
       "[((',', 'funny', ','), 33),\n",
       " (('one', 'year', \"'s\"), 28),\n",
       " (('year', \"'s\", 'best'), 26),\n",
       " (('movies', 'ever', 'made'), 19),\n",
       " ((',', 'solid', 'cast'), 19),\n",
       " (('solid', 'cast', ','), 18),\n",
       " ((\"'ve\", 'ever', 'seen'), 16),\n",
       " (('.', 'It', \"'s\"), 16),\n",
       " ((',', 'making', 'one'), 15),\n",
       " (('best', 'films', 'year'), 15),\n",
       " ((',', 'touching', ','), 15),\n",
       " (('exquisite', 'acting', ','), 15),\n",
       " (('acting', ',', 'inventive'), 14),\n",
       " ((',', 'inventive', 'screenplay'), 14),\n",
       " (('jaw-dropping', 'action', 'sequences'), 14),\n",
       " (('good', 'acting', ','), 14),\n",
       " ((\"'s\", 'best', 'films'), 14),\n",
       " (('I', \"'ve\", 'seen'), 14),\n",
       " (('funny', ',', 'even'), 14),\n",
       " (('best', 'war', 'movies'), 13),\n",
       " (('purely', 'enjoyable', 'satisfying'), 13),\n",
       " (('funny', ',', 'touching'), 13),\n",
       " ((',', 'smart', ','), 13),\n",
       " (('inventive', 'screenplay', ','), 13),\n",
       " (('funniest', 'jokes', 'movie'), 13),\n",
       " (('action', 'sequences', ','), 13),\n",
       " (('sequences', ',', 'striking'), 13),\n",
       " ((',', 'striking', 'villains'), 13),\n",
       " (('exquisite', 'motion', 'picture'), 13),\n",
       " (('war', 'movies', 'ever'), 12)]"
      ]
     },
     "execution_count": 16,
     "metadata": {},
     "output_type": "execute_result"
    }
   ],
   "source": [
    "text = ' '.join(train_raw.loc[train_raw.Sentiment == 4, 'Phrase'].values)\n",
    "text = [i for i in text.split() if i not in stopwords.words('english')]\n",
    "text_trigrams = [i for i in ngrams(text, 3)]\n",
    "Counter(text_trigrams).most_common(30)"
   ]
  },
  {
   "cell_type": "markdown",
   "metadata": {},
   "source": [
    "**Now with stopwords left in...**"
   ]
  },
  {
   "cell_type": "code",
   "execution_count": 71,
   "metadata": {
    "execution": {
     "iopub.execute_input": "2024-04-22T17:42:23.664024Z",
     "iopub.status.busy": "2024-04-22T17:42:23.663119Z",
     "iopub.status.idle": "2024-04-22T17:42:23.783573Z",
     "shell.execute_reply": "2024-04-22T17:42:23.782430Z",
     "shell.execute_reply.started": "2024-04-22T17:42:23.663985Z"
    }
   },
   "outputs": [
    {
     "data": {
      "text/plain": [
       "[(('one', 'of', 'the'), 199),\n",
       " (('of', 'the', 'year'), 103),\n",
       " (('.', 'is', 'a'), 87),\n",
       " (('of', 'the', 'best'), 80),\n",
       " (('of', 'the', 'most'), 70),\n",
       " (('is', 'one', 'of'), 50),\n",
       " (('One', 'of', 'the'), 43),\n",
       " ((',', 'and', 'the'), 40),\n",
       " (('the', 'year', \"'s\"), 38),\n",
       " (('It', \"'s\", 'a'), 38),\n",
       " (('it', \"'s\", 'a'), 37),\n",
       " (('.', \"'s\", 'a'), 37),\n",
       " (('a', 'movie', 'that'), 35),\n",
       " (('the', 'edge', 'of'), 34),\n",
       " (('the', 'kind', 'of'), 33),\n",
       " (('of', 'your', 'seat'), 33),\n",
       " (('the', 'film', 'is'), 31),\n",
       " ((',', 'this', 'is'), 31),\n",
       " (('the', 'film', \"'s\"), 31),\n",
       " ((',', 'the', 'film'), 30),\n",
       " (('film', 'that', 'is'), 30),\n",
       " (('as', 'one', 'of'), 30),\n",
       " (('edge', 'of', 'your'), 29),\n",
       " ((',', 'it', \"'s\"), 27),\n",
       " (('a', 'film', 'that'), 27),\n",
       " (('as', 'well', 'as'), 27),\n",
       " ((',', 'funny', ','), 25),\n",
       " ((',', 'but', 'it'), 23),\n",
       " (('films', 'of', 'the'), 23),\n",
       " (('some', 'of', 'the'), 23)]"
      ]
     },
     "execution_count": 71,
     "metadata": {},
     "output_type": "execute_result"
    }
   ],
   "source": [
    "text = ' '.join(train_raw.loc[train_raw.Sentiment == 4, 'Phrase'].values)\n",
    "text_trigrams = [i for i in ngrams(text.split(), 3)]\n",
    "Counter(text_trigrams).most_common(30)"
   ]
  },
  {
   "cell_type": "markdown",
   "metadata": {},
   "source": [
    "**It appears many stopwords make up the most common 3grams, and we would likely lose a lot by deleting stopwords. In particular, a 1-2 word phrase may consist exclusively of stopwords and will provide a valuable training rep.**"
   ]
  },
  {
   "cell_type": "markdown",
   "metadata": {},
   "source": [
    "# Clean and Train Data"
   ]
  },
  {
   "cell_type": "code",
   "execution_count": 74,
   "metadata": {
    "execution": {
     "iopub.execute_input": "2024-04-22T17:45:19.916049Z",
     "iopub.status.busy": "2024-04-22T17:45:19.915667Z",
     "iopub.status.idle": "2024-04-22T17:45:19.923308Z",
     "shell.execute_reply": "2024-04-22T17:45:19.921956Z",
     "shell.execute_reply.started": "2024-04-22T17:45:19.916013Z"
    }
   },
   "outputs": [],
   "source": [
    "def clean_the_phrase(phrase):\n",
    "    # Function to convert a phrase to a string of words\n",
    "    # The input is a single string (a raw movie review), and \n",
    "    # the output is a single string (a preprocessed movie review)\n",
    "    \n",
    "    #\n",
    "    # 1. Convert to lower case, \n",
    "    text = phrase.lower()\n",
    "      \n",
    "    #\n",
    "    # 2. tokenize \n",
    "    words = word_tokenize(text)          \n",
    "    # \n",
    "\n",
    "    #\n",
    "    #  3. Stem the words \n",
    "    stemmer = SnowballStemmer(language='english')\n",
    "    stemmed_words = [stemmer.stem(word) for word in words]\n",
    "    \n",
    "    # 4. Join the words back into one string separated by space, \n",
    "    # and return the result.\n",
    "    return( \" \".join( stemmed_words ))   "
   ]
  },
  {
   "cell_type": "markdown",
   "metadata": {},
   "source": [
    "**In the cleaning function we have not deleted punctuation or stopwords, as these may be important for classification.**"
   ]
  },
  {
   "cell_type": "code",
   "execution_count": 75,
   "metadata": {
    "execution": {
     "iopub.execute_input": "2024-04-22T17:45:22.185025Z",
     "iopub.status.busy": "2024-04-22T17:45:22.184313Z",
     "iopub.status.idle": "2024-04-22T17:45:58.576468Z",
     "shell.execute_reply": "2024-04-22T17:45:58.574801Z",
     "shell.execute_reply.started": "2024-04-22T17:45:22.184989Z"
    }
   },
   "outputs": [],
   "source": [
    "# Apply function to clean the data\n",
    "td_clean['Phrase'] = td_clean['Phrase'].apply(clean_the_phrase)"
   ]
  },
  {
   "cell_type": "code",
   "execution_count": 76,
   "metadata": {
    "execution": {
     "iopub.execute_input": "2024-04-22T17:47:07.935082Z",
     "iopub.status.busy": "2024-04-22T17:47:07.934627Z",
     "iopub.status.idle": "2024-04-22T17:47:07.941633Z",
     "shell.execute_reply": "2024-04-22T17:47:07.940451Z",
     "shell.execute_reply.started": "2024-04-22T17:47:07.935051Z"
    }
   },
   "outputs": [
    {
     "name": "stdout",
     "output_type": "stream",
     "text": [
      "(156060, 4)\n"
     ]
    }
   ],
   "source": [
    "td_clean.head()\n",
    "print(td_clean.shape)"
   ]
  },
  {
   "cell_type": "markdown",
   "metadata": {},
   "source": [
    "**We will compare two different vectorization methods, one simply returning the count of the words and the other the well known tfidf vectorizer. For each, we will do a seperate train/test split in order to avoid issues with models being trained/tested on incompatible feature shapes.**"
   ]
  },
  {
   "cell_type": "code",
   "execution_count": 80,
   "metadata": {
    "execution": {
     "iopub.execute_input": "2024-04-22T17:57:55.132083Z",
     "iopub.status.busy": "2024-04-22T17:57:55.131463Z",
     "iopub.status.idle": "2024-04-22T17:57:55.139380Z",
     "shell.execute_reply": "2024-04-22T17:57:55.137847Z",
     "shell.execute_reply.started": "2024-04-22T17:57:55.132046Z"
    }
   },
   "outputs": [],
   "source": [
    "# Import vectorizers and train_test_split (also cross val while we're at it)\n",
    "# Intialize vectorizers\n",
    "# Note, we could have done our tokenization and stop words step \n",
    "# ( or in our case, not deleted stop words) at this stage.\n",
    "from sklearn.model_selection import train_test_split, cross_val_score\n",
    "from sklearn.feature_extraction.text import CountVectorizer, TfidfVectorizer\n",
    "cv = CountVectorizer() # TODO expt with max_features\n",
    "tv = TfidfVectorizer(tokenizer =None,\n",
    "                            stop_words=None,\n",
    "                            ngram_range=(1,2))"
   ]
  },
  {
   "cell_type": "code",
   "execution_count": 81,
   "metadata": {
    "execution": {
     "iopub.execute_input": "2024-04-22T17:58:17.717163Z",
     "iopub.status.busy": "2024-04-22T17:58:17.716745Z",
     "iopub.status.idle": "2024-04-22T17:58:19.079955Z",
     "shell.execute_reply": "2024-04-22T17:58:19.078627Z",
     "shell.execute_reply.started": "2024-04-22T17:58:17.717134Z"
    }
   },
   "outputs": [
    {
     "name": "stdout",
     "output_type": "stream",
     "text": [
      "(124848, 10599)\n"
     ]
    }
   ],
   "source": [
    "# train test split for count vectorizer \n",
    "X, y = td_clean.drop(columns=['Sentiment']), td_clean['Sentiment']\n",
    "X_train, X_validate, y_train, y_validate = train_test_split(X, y, test_size=0.2, stratify=y)\n",
    "cv_features = cv.fit_transform(X_train['Phrase'])\n",
    "print(cv_features.shape)"
   ]
  },
  {
   "cell_type": "code",
   "execution_count": 83,
   "metadata": {
    "execution": {
     "iopub.execute_input": "2024-04-22T17:58:30.747556Z",
     "iopub.status.busy": "2024-04-22T17:58:30.747081Z",
     "iopub.status.idle": "2024-04-22T17:58:33.234793Z",
     "shell.execute_reply": "2024-04-22T17:58:33.233568Z",
     "shell.execute_reply.started": "2024-04-22T17:58:30.747516Z"
    }
   },
   "outputs": [
    {
     "name": "stdout",
     "output_type": "stream",
     "text": [
      "(124848, 73759)\n"
     ]
    }
   ],
   "source": [
    "# train test split for tfidf vectorizer \n",
    "X_train_tf, X_val_tf, y_train_tf, y_val_tf = train_test_split(X, y, test_size=0.2, stratify=y)\n",
    "tf_features = tv.fit_transform(X_train_tf['Phrase'])\n",
    "print(tf_features.shape)"
   ]
  },
  {
   "cell_type": "code",
   "execution_count": 85,
   "metadata": {
    "execution": {
     "iopub.execute_input": "2024-04-22T17:58:52.545838Z",
     "iopub.status.busy": "2024-04-22T17:58:52.545049Z",
     "iopub.status.idle": "2024-04-22T17:58:54.507544Z",
     "shell.execute_reply": "2024-04-22T17:58:54.506176Z",
     "shell.execute_reply.started": "2024-04-22T17:58:52.545797Z"
    }
   },
   "outputs": [
    {
     "name": "stdout",
     "output_type": "stream",
     "text": [
      "(124848, 10599)\n",
      "(124848, 73759)\n"
     ]
    }
   ],
   "source": [
    "X_train = pd.DataFrame.sparse.from_spmatrix(cv_features, columns=cv.get_feature_names_out())\n",
    "print(X_train.shape)\n",
    "X_train_tf = pd.DataFrame.sparse.from_spmatrix(tf_features, columns=tv.get_feature_names_out())\n",
    "print(X_train_tf.shape)"
   ]
  },
  {
   "cell_type": "markdown",
   "metadata": {},
   "source": [
    "**Now we will import some models and train on the data**"
   ]
  },
  {
   "cell_type": "code",
   "execution_count": 86,
   "metadata": {
    "execution": {
     "iopub.execute_input": "2024-04-22T17:59:18.026245Z",
     "iopub.status.busy": "2024-04-22T17:59:18.025737Z",
     "iopub.status.idle": "2024-04-22T17:59:18.036089Z",
     "shell.execute_reply": "2024-04-22T17:59:18.034965Z",
     "shell.execute_reply.started": "2024-04-22T17:59:18.026206Z"
    }
   },
   "outputs": [],
   "source": [
    "from sklearn.ensemble import RandomForestClassifier\n",
    "from sklearn.naive_bayes import MultinomialNB\n",
    "from sklearn.linear_model import LogisticRegression\n",
    "from sklearn.multiclass import OneVsRestClassifier\n",
    "from sklearn.ensemble import GradientBoostingClassifier"
   ]
  },
  {
   "cell_type": "code",
   "execution_count": 98,
   "metadata": {
    "execution": {
     "iopub.execute_input": "2024-04-22T18:04:13.589354Z",
     "iopub.status.busy": "2024-04-22T18:04:13.588471Z",
     "iopub.status.idle": "2024-04-22T18:04:13.662609Z",
     "shell.execute_reply": "2024-04-22T18:04:13.661450Z",
     "shell.execute_reply.started": "2024-04-22T18:04:13.589302Z"
    }
   },
   "outputs": [
    {
     "data": {
      "text/html": [
       "<style>#sk-container-id-16 {color: black;background-color: white;}#sk-container-id-16 pre{padding: 0;}#sk-container-id-16 div.sk-toggleable {background-color: white;}#sk-container-id-16 label.sk-toggleable__label {cursor: pointer;display: block;width: 100%;margin-bottom: 0;padding: 0.3em;box-sizing: border-box;text-align: center;}#sk-container-id-16 label.sk-toggleable__label-arrow:before {content: \"▸\";float: left;margin-right: 0.25em;color: #696969;}#sk-container-id-16 label.sk-toggleable__label-arrow:hover:before {color: black;}#sk-container-id-16 div.sk-estimator:hover label.sk-toggleable__label-arrow:before {color: black;}#sk-container-id-16 div.sk-toggleable__content {max-height: 0;max-width: 0;overflow: hidden;text-align: left;background-color: #f0f8ff;}#sk-container-id-16 div.sk-toggleable__content pre {margin: 0.2em;color: black;border-radius: 0.25em;background-color: #f0f8ff;}#sk-container-id-16 input.sk-toggleable__control:checked~div.sk-toggleable__content {max-height: 200px;max-width: 100%;overflow: auto;}#sk-container-id-16 input.sk-toggleable__control:checked~label.sk-toggleable__label-arrow:before {content: \"▾\";}#sk-container-id-16 div.sk-estimator input.sk-toggleable__control:checked~label.sk-toggleable__label {background-color: #d4ebff;}#sk-container-id-16 div.sk-label input.sk-toggleable__control:checked~label.sk-toggleable__label {background-color: #d4ebff;}#sk-container-id-16 input.sk-hidden--visually {border: 0;clip: rect(1px 1px 1px 1px);clip: rect(1px, 1px, 1px, 1px);height: 1px;margin: -1px;overflow: hidden;padding: 0;position: absolute;width: 1px;}#sk-container-id-16 div.sk-estimator {font-family: monospace;background-color: #f0f8ff;border: 1px dotted black;border-radius: 0.25em;box-sizing: border-box;margin-bottom: 0.5em;}#sk-container-id-16 div.sk-estimator:hover {background-color: #d4ebff;}#sk-container-id-16 div.sk-parallel-item::after {content: \"\";width: 100%;border-bottom: 1px solid gray;flex-grow: 1;}#sk-container-id-16 div.sk-label:hover label.sk-toggleable__label {background-color: #d4ebff;}#sk-container-id-16 div.sk-serial::before {content: \"\";position: absolute;border-left: 1px solid gray;box-sizing: border-box;top: 0;bottom: 0;left: 50%;z-index: 0;}#sk-container-id-16 div.sk-serial {display: flex;flex-direction: column;align-items: center;background-color: white;padding-right: 0.2em;padding-left: 0.2em;position: relative;}#sk-container-id-16 div.sk-item {position: relative;z-index: 1;}#sk-container-id-16 div.sk-parallel {display: flex;align-items: stretch;justify-content: center;background-color: white;position: relative;}#sk-container-id-16 div.sk-item::before, #sk-container-id-16 div.sk-parallel-item::before {content: \"\";position: absolute;border-left: 1px solid gray;box-sizing: border-box;top: 0;bottom: 0;left: 50%;z-index: -1;}#sk-container-id-16 div.sk-parallel-item {display: flex;flex-direction: column;z-index: 1;position: relative;background-color: white;}#sk-container-id-16 div.sk-parallel-item:first-child::after {align-self: flex-end;width: 50%;}#sk-container-id-16 div.sk-parallel-item:last-child::after {align-self: flex-start;width: 50%;}#sk-container-id-16 div.sk-parallel-item:only-child::after {width: 0;}#sk-container-id-16 div.sk-dashed-wrapped {border: 1px dashed gray;margin: 0 0.4em 0.5em 0.4em;box-sizing: border-box;padding-bottom: 0.4em;background-color: white;}#sk-container-id-16 div.sk-label label {font-family: monospace;font-weight: bold;display: inline-block;line-height: 1.2em;}#sk-container-id-16 div.sk-label-container {text-align: center;}#sk-container-id-16 div.sk-container {/* jupyter's `normalize.less` sets `[hidden] { display: none; }` but bootstrap.min.css set `[hidden] { display: none !important; }` so we also need the `!important` here to be able to override the default hidden behavior on the sphinx rendered scikit-learn.org. See: https://github.com/scikit-learn/scikit-learn/issues/21755 */display: inline-block !important;position: relative;}#sk-container-id-16 div.sk-text-repr-fallback {display: none;}</style><div id=\"sk-container-id-16\" class=\"sk-top-container\"><div class=\"sk-text-repr-fallback\"><pre>MultinomialNB()</pre><b>In a Jupyter environment, please rerun this cell to show the HTML representation or trust the notebook. <br />On GitHub, the HTML representation is unable to render, please try loading this page with nbviewer.org.</b></div><div class=\"sk-container\" hidden><div class=\"sk-item\"><div class=\"sk-estimator sk-toggleable\"><input class=\"sk-toggleable__control sk-hidden--visually\" id=\"sk-estimator-id-16\" type=\"checkbox\" checked><label for=\"sk-estimator-id-16\" class=\"sk-toggleable__label sk-toggleable__label-arrow\">MultinomialNB</label><div class=\"sk-toggleable__content\"><pre>MultinomialNB()</pre></div></div></div></div></div>"
      ],
      "text/plain": [
       "MultinomialNB()"
      ]
     },
     "execution_count": 98,
     "metadata": {},
     "output_type": "execute_result"
    }
   ],
   "source": [
    "#Multinomial Naive Bayes without tfidf\n",
    "modelNB = MultinomialNB() \n",
    "modelNB.fit(cv_features, y_train)"
   ]
  },
  {
   "cell_type": "code",
   "execution_count": 95,
   "metadata": {
    "execution": {
     "iopub.execute_input": "2024-04-22T18:03:37.992798Z",
     "iopub.status.busy": "2024-04-22T18:03:37.992328Z",
     "iopub.status.idle": "2024-04-22T18:03:38.056738Z",
     "shell.execute_reply": "2024-04-22T18:03:38.055580Z",
     "shell.execute_reply.started": "2024-04-22T18:03:37.992765Z"
    }
   },
   "outputs": [
    {
     "data": {
      "text/html": [
       "<style>#sk-container-id-13 {color: black;background-color: white;}#sk-container-id-13 pre{padding: 0;}#sk-container-id-13 div.sk-toggleable {background-color: white;}#sk-container-id-13 label.sk-toggleable__label {cursor: pointer;display: block;width: 100%;margin-bottom: 0;padding: 0.3em;box-sizing: border-box;text-align: center;}#sk-container-id-13 label.sk-toggleable__label-arrow:before {content: \"▸\";float: left;margin-right: 0.25em;color: #696969;}#sk-container-id-13 label.sk-toggleable__label-arrow:hover:before {color: black;}#sk-container-id-13 div.sk-estimator:hover label.sk-toggleable__label-arrow:before {color: black;}#sk-container-id-13 div.sk-toggleable__content {max-height: 0;max-width: 0;overflow: hidden;text-align: left;background-color: #f0f8ff;}#sk-container-id-13 div.sk-toggleable__content pre {margin: 0.2em;color: black;border-radius: 0.25em;background-color: #f0f8ff;}#sk-container-id-13 input.sk-toggleable__control:checked~div.sk-toggleable__content {max-height: 200px;max-width: 100%;overflow: auto;}#sk-container-id-13 input.sk-toggleable__control:checked~label.sk-toggleable__label-arrow:before {content: \"▾\";}#sk-container-id-13 div.sk-estimator input.sk-toggleable__control:checked~label.sk-toggleable__label {background-color: #d4ebff;}#sk-container-id-13 div.sk-label input.sk-toggleable__control:checked~label.sk-toggleable__label {background-color: #d4ebff;}#sk-container-id-13 input.sk-hidden--visually {border: 0;clip: rect(1px 1px 1px 1px);clip: rect(1px, 1px, 1px, 1px);height: 1px;margin: -1px;overflow: hidden;padding: 0;position: absolute;width: 1px;}#sk-container-id-13 div.sk-estimator {font-family: monospace;background-color: #f0f8ff;border: 1px dotted black;border-radius: 0.25em;box-sizing: border-box;margin-bottom: 0.5em;}#sk-container-id-13 div.sk-estimator:hover {background-color: #d4ebff;}#sk-container-id-13 div.sk-parallel-item::after {content: \"\";width: 100%;border-bottom: 1px solid gray;flex-grow: 1;}#sk-container-id-13 div.sk-label:hover label.sk-toggleable__label {background-color: #d4ebff;}#sk-container-id-13 div.sk-serial::before {content: \"\";position: absolute;border-left: 1px solid gray;box-sizing: border-box;top: 0;bottom: 0;left: 50%;z-index: 0;}#sk-container-id-13 div.sk-serial {display: flex;flex-direction: column;align-items: center;background-color: white;padding-right: 0.2em;padding-left: 0.2em;position: relative;}#sk-container-id-13 div.sk-item {position: relative;z-index: 1;}#sk-container-id-13 div.sk-parallel {display: flex;align-items: stretch;justify-content: center;background-color: white;position: relative;}#sk-container-id-13 div.sk-item::before, #sk-container-id-13 div.sk-parallel-item::before {content: \"\";position: absolute;border-left: 1px solid gray;box-sizing: border-box;top: 0;bottom: 0;left: 50%;z-index: -1;}#sk-container-id-13 div.sk-parallel-item {display: flex;flex-direction: column;z-index: 1;position: relative;background-color: white;}#sk-container-id-13 div.sk-parallel-item:first-child::after {align-self: flex-end;width: 50%;}#sk-container-id-13 div.sk-parallel-item:last-child::after {align-self: flex-start;width: 50%;}#sk-container-id-13 div.sk-parallel-item:only-child::after {width: 0;}#sk-container-id-13 div.sk-dashed-wrapped {border: 1px dashed gray;margin: 0 0.4em 0.5em 0.4em;box-sizing: border-box;padding-bottom: 0.4em;background-color: white;}#sk-container-id-13 div.sk-label label {font-family: monospace;font-weight: bold;display: inline-block;line-height: 1.2em;}#sk-container-id-13 div.sk-label-container {text-align: center;}#sk-container-id-13 div.sk-container {/* jupyter's `normalize.less` sets `[hidden] { display: none; }` but bootstrap.min.css set `[hidden] { display: none !important; }` so we also need the `!important` here to be able to override the default hidden behavior on the sphinx rendered scikit-learn.org. See: https://github.com/scikit-learn/scikit-learn/issues/21755 */display: inline-block !important;position: relative;}#sk-container-id-13 div.sk-text-repr-fallback {display: none;}</style><div id=\"sk-container-id-13\" class=\"sk-top-container\"><div class=\"sk-text-repr-fallback\"><pre>MultinomialNB()</pre><b>In a Jupyter environment, please rerun this cell to show the HTML representation or trust the notebook. <br />On GitHub, the HTML representation is unable to render, please try loading this page with nbviewer.org.</b></div><div class=\"sk-container\" hidden><div class=\"sk-item\"><div class=\"sk-estimator sk-toggleable\"><input class=\"sk-toggleable__control sk-hidden--visually\" id=\"sk-estimator-id-13\" type=\"checkbox\" checked><label for=\"sk-estimator-id-13\" class=\"sk-toggleable__label sk-toggleable__label-arrow\">MultinomialNB</label><div class=\"sk-toggleable__content\"><pre>MultinomialNB()</pre></div></div></div></div></div>"
      ],
      "text/plain": [
       "MultinomialNB()"
      ]
     },
     "execution_count": 95,
     "metadata": {},
     "output_type": "execute_result"
    }
   ],
   "source": [
    "#Multinomial Naive Bayes with tfidf\n",
    "modelNBtfidf = MultinomialNB()\n",
    "modelNBtfidf.fit(tf_features,y_train_tf)"
   ]
  },
  {
   "cell_type": "code",
   "execution_count": 123,
   "metadata": {
    "execution": {
     "iopub.execute_input": "2024-04-22T18:16:31.828202Z",
     "iopub.status.busy": "2024-04-22T18:16:31.826871Z",
     "iopub.status.idle": "2024-04-22T18:16:42.893910Z",
     "shell.execute_reply": "2024-04-22T18:16:42.892410Z",
     "shell.execute_reply.started": "2024-04-22T18:16:31.828165Z"
    }
   },
   "outputs": [
    {
     "name": "stderr",
     "output_type": "stream",
     "text": [
      "/opt/conda/lib/python3.10/site-packages/sklearn/linear_model/_logistic.py:458: ConvergenceWarning: lbfgs failed to converge (status=1):\n",
      "STOP: TOTAL NO. of ITERATIONS REACHED LIMIT.\n",
      "\n",
      "Increase the number of iterations (max_iter) or scale the data as shown in:\n",
      "    https://scikit-learn.org/stable/modules/preprocessing.html\n",
      "Please also refer to the documentation for alternative solver options:\n",
      "    https://scikit-learn.org/stable/modules/linear_model.html#logistic-regression\n",
      "  n_iter_i = _check_optimize_result(\n"
     ]
    },
    {
     "data": {
      "text/html": [
       "<style>#sk-container-id-21 {color: black;background-color: white;}#sk-container-id-21 pre{padding: 0;}#sk-container-id-21 div.sk-toggleable {background-color: white;}#sk-container-id-21 label.sk-toggleable__label {cursor: pointer;display: block;width: 100%;margin-bottom: 0;padding: 0.3em;box-sizing: border-box;text-align: center;}#sk-container-id-21 label.sk-toggleable__label-arrow:before {content: \"▸\";float: left;margin-right: 0.25em;color: #696969;}#sk-container-id-21 label.sk-toggleable__label-arrow:hover:before {color: black;}#sk-container-id-21 div.sk-estimator:hover label.sk-toggleable__label-arrow:before {color: black;}#sk-container-id-21 div.sk-toggleable__content {max-height: 0;max-width: 0;overflow: hidden;text-align: left;background-color: #f0f8ff;}#sk-container-id-21 div.sk-toggleable__content pre {margin: 0.2em;color: black;border-radius: 0.25em;background-color: #f0f8ff;}#sk-container-id-21 input.sk-toggleable__control:checked~div.sk-toggleable__content {max-height: 200px;max-width: 100%;overflow: auto;}#sk-container-id-21 input.sk-toggleable__control:checked~label.sk-toggleable__label-arrow:before {content: \"▾\";}#sk-container-id-21 div.sk-estimator input.sk-toggleable__control:checked~label.sk-toggleable__label {background-color: #d4ebff;}#sk-container-id-21 div.sk-label input.sk-toggleable__control:checked~label.sk-toggleable__label {background-color: #d4ebff;}#sk-container-id-21 input.sk-hidden--visually {border: 0;clip: rect(1px 1px 1px 1px);clip: rect(1px, 1px, 1px, 1px);height: 1px;margin: -1px;overflow: hidden;padding: 0;position: absolute;width: 1px;}#sk-container-id-21 div.sk-estimator {font-family: monospace;background-color: #f0f8ff;border: 1px dotted black;border-radius: 0.25em;box-sizing: border-box;margin-bottom: 0.5em;}#sk-container-id-21 div.sk-estimator:hover {background-color: #d4ebff;}#sk-container-id-21 div.sk-parallel-item::after {content: \"\";width: 100%;border-bottom: 1px solid gray;flex-grow: 1;}#sk-container-id-21 div.sk-label:hover label.sk-toggleable__label {background-color: #d4ebff;}#sk-container-id-21 div.sk-serial::before {content: \"\";position: absolute;border-left: 1px solid gray;box-sizing: border-box;top: 0;bottom: 0;left: 50%;z-index: 0;}#sk-container-id-21 div.sk-serial {display: flex;flex-direction: column;align-items: center;background-color: white;padding-right: 0.2em;padding-left: 0.2em;position: relative;}#sk-container-id-21 div.sk-item {position: relative;z-index: 1;}#sk-container-id-21 div.sk-parallel {display: flex;align-items: stretch;justify-content: center;background-color: white;position: relative;}#sk-container-id-21 div.sk-item::before, #sk-container-id-21 div.sk-parallel-item::before {content: \"\";position: absolute;border-left: 1px solid gray;box-sizing: border-box;top: 0;bottom: 0;left: 50%;z-index: -1;}#sk-container-id-21 div.sk-parallel-item {display: flex;flex-direction: column;z-index: 1;position: relative;background-color: white;}#sk-container-id-21 div.sk-parallel-item:first-child::after {align-self: flex-end;width: 50%;}#sk-container-id-21 div.sk-parallel-item:last-child::after {align-self: flex-start;width: 50%;}#sk-container-id-21 div.sk-parallel-item:only-child::after {width: 0;}#sk-container-id-21 div.sk-dashed-wrapped {border: 1px dashed gray;margin: 0 0.4em 0.5em 0.4em;box-sizing: border-box;padding-bottom: 0.4em;background-color: white;}#sk-container-id-21 div.sk-label label {font-family: monospace;font-weight: bold;display: inline-block;line-height: 1.2em;}#sk-container-id-21 div.sk-label-container {text-align: center;}#sk-container-id-21 div.sk-container {/* jupyter's `normalize.less` sets `[hidden] { display: none; }` but bootstrap.min.css set `[hidden] { display: none !important; }` so we also need the `!important` here to be able to override the default hidden behavior on the sphinx rendered scikit-learn.org. See: https://github.com/scikit-learn/scikit-learn/issues/21755 */display: inline-block !important;position: relative;}#sk-container-id-21 div.sk-text-repr-fallback {display: none;}</style><div id=\"sk-container-id-21\" class=\"sk-top-container\"><div class=\"sk-text-repr-fallback\"><pre>LogisticRegression()</pre><b>In a Jupyter environment, please rerun this cell to show the HTML representation or trust the notebook. <br />On GitHub, the HTML representation is unable to render, please try loading this page with nbviewer.org.</b></div><div class=\"sk-container\" hidden><div class=\"sk-item\"><div class=\"sk-estimator sk-toggleable\"><input class=\"sk-toggleable__control sk-hidden--visually\" id=\"sk-estimator-id-23\" type=\"checkbox\" checked><label for=\"sk-estimator-id-23\" class=\"sk-toggleable__label sk-toggleable__label-arrow\">LogisticRegression</label><div class=\"sk-toggleable__content\"><pre>LogisticRegression()</pre></div></div></div></div></div>"
      ],
      "text/plain": [
       "LogisticRegression()"
      ]
     },
     "execution_count": 123,
     "metadata": {},
     "output_type": "execute_result"
    }
   ],
   "source": [
    "# Log regression without tfidf \n",
    "logReg= LogisticRegression(max_iter=100)\n",
    "#logReg = OneVsRestClassifier(logR) # the one vs rest classifier seems to perform worse in cross val\n",
    "logReg.fit(cv_features, y_train)"
   ]
  },
  {
   "cell_type": "code",
   "execution_count": 124,
   "metadata": {
    "execution": {
     "iopub.execute_input": "2024-04-22T18:16:42.897289Z",
     "iopub.status.busy": "2024-04-22T18:16:42.896735Z",
     "iopub.status.idle": "2024-04-22T18:17:04.449759Z",
     "shell.execute_reply": "2024-04-22T18:17:04.448436Z",
     "shell.execute_reply.started": "2024-04-22T18:16:42.897243Z"
    }
   },
   "outputs": [
    {
     "name": "stderr",
     "output_type": "stream",
     "text": [
      "/opt/conda/lib/python3.10/site-packages/sklearn/linear_model/_logistic.py:458: ConvergenceWarning: lbfgs failed to converge (status=1):\n",
      "STOP: TOTAL NO. of ITERATIONS REACHED LIMIT.\n",
      "\n",
      "Increase the number of iterations (max_iter) or scale the data as shown in:\n",
      "    https://scikit-learn.org/stable/modules/preprocessing.html\n",
      "Please also refer to the documentation for alternative solver options:\n",
      "    https://scikit-learn.org/stable/modules/linear_model.html#logistic-regression\n",
      "  n_iter_i = _check_optimize_result(\n"
     ]
    },
    {
     "data": {
      "text/html": [
       "<style>#sk-container-id-22 {color: black;background-color: white;}#sk-container-id-22 pre{padding: 0;}#sk-container-id-22 div.sk-toggleable {background-color: white;}#sk-container-id-22 label.sk-toggleable__label {cursor: pointer;display: block;width: 100%;margin-bottom: 0;padding: 0.3em;box-sizing: border-box;text-align: center;}#sk-container-id-22 label.sk-toggleable__label-arrow:before {content: \"▸\";float: left;margin-right: 0.25em;color: #696969;}#sk-container-id-22 label.sk-toggleable__label-arrow:hover:before {color: black;}#sk-container-id-22 div.sk-estimator:hover label.sk-toggleable__label-arrow:before {color: black;}#sk-container-id-22 div.sk-toggleable__content {max-height: 0;max-width: 0;overflow: hidden;text-align: left;background-color: #f0f8ff;}#sk-container-id-22 div.sk-toggleable__content pre {margin: 0.2em;color: black;border-radius: 0.25em;background-color: #f0f8ff;}#sk-container-id-22 input.sk-toggleable__control:checked~div.sk-toggleable__content {max-height: 200px;max-width: 100%;overflow: auto;}#sk-container-id-22 input.sk-toggleable__control:checked~label.sk-toggleable__label-arrow:before {content: \"▾\";}#sk-container-id-22 div.sk-estimator input.sk-toggleable__control:checked~label.sk-toggleable__label {background-color: #d4ebff;}#sk-container-id-22 div.sk-label input.sk-toggleable__control:checked~label.sk-toggleable__label {background-color: #d4ebff;}#sk-container-id-22 input.sk-hidden--visually {border: 0;clip: rect(1px 1px 1px 1px);clip: rect(1px, 1px, 1px, 1px);height: 1px;margin: -1px;overflow: hidden;padding: 0;position: absolute;width: 1px;}#sk-container-id-22 div.sk-estimator {font-family: monospace;background-color: #f0f8ff;border: 1px dotted black;border-radius: 0.25em;box-sizing: border-box;margin-bottom: 0.5em;}#sk-container-id-22 div.sk-estimator:hover {background-color: #d4ebff;}#sk-container-id-22 div.sk-parallel-item::after {content: \"\";width: 100%;border-bottom: 1px solid gray;flex-grow: 1;}#sk-container-id-22 div.sk-label:hover label.sk-toggleable__label {background-color: #d4ebff;}#sk-container-id-22 div.sk-serial::before {content: \"\";position: absolute;border-left: 1px solid gray;box-sizing: border-box;top: 0;bottom: 0;left: 50%;z-index: 0;}#sk-container-id-22 div.sk-serial {display: flex;flex-direction: column;align-items: center;background-color: white;padding-right: 0.2em;padding-left: 0.2em;position: relative;}#sk-container-id-22 div.sk-item {position: relative;z-index: 1;}#sk-container-id-22 div.sk-parallel {display: flex;align-items: stretch;justify-content: center;background-color: white;position: relative;}#sk-container-id-22 div.sk-item::before, #sk-container-id-22 div.sk-parallel-item::before {content: \"\";position: absolute;border-left: 1px solid gray;box-sizing: border-box;top: 0;bottom: 0;left: 50%;z-index: -1;}#sk-container-id-22 div.sk-parallel-item {display: flex;flex-direction: column;z-index: 1;position: relative;background-color: white;}#sk-container-id-22 div.sk-parallel-item:first-child::after {align-self: flex-end;width: 50%;}#sk-container-id-22 div.sk-parallel-item:last-child::after {align-self: flex-start;width: 50%;}#sk-container-id-22 div.sk-parallel-item:only-child::after {width: 0;}#sk-container-id-22 div.sk-dashed-wrapped {border: 1px dashed gray;margin: 0 0.4em 0.5em 0.4em;box-sizing: border-box;padding-bottom: 0.4em;background-color: white;}#sk-container-id-22 div.sk-label label {font-family: monospace;font-weight: bold;display: inline-block;line-height: 1.2em;}#sk-container-id-22 div.sk-label-container {text-align: center;}#sk-container-id-22 div.sk-container {/* jupyter's `normalize.less` sets `[hidden] { display: none; }` but bootstrap.min.css set `[hidden] { display: none !important; }` so we also need the `!important` here to be able to override the default hidden behavior on the sphinx rendered scikit-learn.org. See: https://github.com/scikit-learn/scikit-learn/issues/21755 */display: inline-block !important;position: relative;}#sk-container-id-22 div.sk-text-repr-fallback {display: none;}</style><div id=\"sk-container-id-22\" class=\"sk-top-container\"><div class=\"sk-text-repr-fallback\"><pre>LogisticRegression()</pre><b>In a Jupyter environment, please rerun this cell to show the HTML representation or trust the notebook. <br />On GitHub, the HTML representation is unable to render, please try loading this page with nbviewer.org.</b></div><div class=\"sk-container\" hidden><div class=\"sk-item\"><div class=\"sk-estimator sk-toggleable\"><input class=\"sk-toggleable__control sk-hidden--visually\" id=\"sk-estimator-id-24\" type=\"checkbox\" checked><label for=\"sk-estimator-id-24\" class=\"sk-toggleable__label sk-toggleable__label-arrow\">LogisticRegression</label><div class=\"sk-toggleable__content\"><pre>LogisticRegression()</pre></div></div></div></div></div>"
      ],
      "text/plain": [
       "LogisticRegression()"
      ]
     },
     "execution_count": 124,
     "metadata": {},
     "output_type": "execute_result"
    }
   ],
   "source": [
    "# Log regression with tfidf \n",
    "logRegtfidf = LogisticRegression(max_iter=100)\n",
    "#LogRegtfidf = OneVsRestClassifier(logRtfidf) # the one vs rest classifier seems to perform worse in cross val\n",
    "logRegtfidf.fit(tf_features,y_train_tf)"
   ]
  },
  {
   "cell_type": "code",
   "execution_count": 92,
   "metadata": {
    "execution": {
     "iopub.execute_input": "2024-04-22T18:02:07.788036Z",
     "iopub.status.busy": "2024-04-22T18:02:07.787252Z",
     "iopub.status.idle": "2024-04-22T18:02:07.792342Z",
     "shell.execute_reply": "2024-04-22T18:02:07.791300Z",
     "shell.execute_reply.started": "2024-04-22T18:02:07.787991Z"
    }
   },
   "outputs": [],
   "source": [
    "## Gradient booster performs very poorly and takes a long time to train so it is commented out and not analyzed.\n",
    "#booster = GradientBoostingClassifier(n_estimators=100, learning_rate=1.0, random_state=0)\n",
    "#booster.fit(training_features, y_train)"
   ]
  },
  {
   "cell_type": "code",
   "execution_count": 93,
   "metadata": {
    "execution": {
     "iopub.execute_input": "2024-04-22T18:02:24.547833Z",
     "iopub.status.busy": "2024-04-22T18:02:24.547428Z",
     "iopub.status.idle": "2024-04-22T18:02:24.553226Z",
     "shell.execute_reply": "2024-04-22T18:02:24.551890Z",
     "shell.execute_reply.started": "2024-04-22T18:02:24.547804Z"
    }
   },
   "outputs": [],
   "source": [
    "# Random Forest also takes a long time and doesn't perform any better than the other classifiers.\n",
    "#modelRF = RandomForestClassifier()\n",
    "#modelRF.fit(X_train,y_train)"
   ]
  },
  {
   "cell_type": "markdown",
   "metadata": {},
   "source": [
    "**Training Scores:**"
   ]
  },
  {
   "cell_type": "code",
   "execution_count": 125,
   "metadata": {
    "execution": {
     "iopub.execute_input": "2024-04-22T18:17:10.437729Z",
     "iopub.status.busy": "2024-04-22T18:17:10.436802Z",
     "iopub.status.idle": "2024-04-22T18:17:10.532793Z",
     "shell.execute_reply": "2024-04-22T18:17:10.531627Z",
     "shell.execute_reply.started": "2024-04-22T18:17:10.437698Z"
    }
   },
   "outputs": [
    {
     "name": "stdout",
     "output_type": "stream",
     "text": [
      "NB Score without tfidf:  0.6576957580417788\n",
      "-----------------------\n",
      "\n",
      "NB Score with tfidf:  0.6831827502242727\n",
      "-----------------------\n",
      "\n",
      "Logistic Regression Score without tfidf:  0.686723055235166\n",
      "-----------------------\n",
      "\n",
      "Logistic Regression Score with tfidf:  0.7180010893246187\n",
      "-----------------------\n",
      "\n"
     ]
    }
   ],
   "source": [
    "print('NB Score without tfidf: ', modelNB.score(cv_features, y_train))\n",
    "print('-----------------------\\n')\n",
    "print('NB Score with tfidf: ',modelNBtfidf.score(tf_features,y_train_tf))\n",
    "print('-----------------------\\n')\n",
    "print('Logistic Regression Score without tfidf: ',logReg.score(cv_features, y_train))\n",
    "print('-----------------------\\n')\n",
    "print('Logistic Regression Score with tfidf: ',logRegtfidf.score(tf_features,y_train_tf))\n",
    "print('-----------------------\\n')\n",
    "#print('Gradient Booster Score without tfidf: 'booster.score(training_features, y_train))\n",
    "#print('-----------------------\\n')\n",
    "#print('Random Forest: \\n')\n",
    "#modelRF.score(training_features, y_train)\n",
    "#"
   ]
  },
  {
   "cell_type": "markdown",
   "metadata": {},
   "source": [
    "**With the tfidf vectorizer, the training scores are better, but will this bear out in cross validation is the question...**"
   ]
  },
  {
   "cell_type": "code",
   "execution_count": 126,
   "metadata": {
    "execution": {
     "iopub.execute_input": "2024-04-22T18:17:15.026061Z",
     "iopub.status.busy": "2024-04-22T18:17:15.025077Z",
     "iopub.status.idle": "2024-04-22T18:17:31.155881Z",
     "shell.execute_reply": "2024-04-22T18:17:31.155089Z",
     "shell.execute_reply.started": "2024-04-22T18:17:15.026024Z"
    }
   },
   "outputs": [
    {
     "name": "stdout",
     "output_type": "stream",
     "text": [
      "(NB no tfidf) \n",
      " Cross-validation mean accuracy  59.91%, std 0.11. \n",
      "\n",
      "(NB with tfidf) \n",
      " Cross-validation mean accuracy  58.82%, std 0.11. \n",
      "\n"
     ]
    },
    {
     "name": "stderr",
     "output_type": "stream",
     "text": [
      "/opt/conda/lib/python3.10/site-packages/sklearn/linear_model/_logistic.py:458: ConvergenceWarning: lbfgs failed to converge (status=1):\n",
      "STOP: TOTAL NO. of ITERATIONS REACHED LIMIT.\n",
      "\n",
      "Increase the number of iterations (max_iter) or scale the data as shown in:\n",
      "    https://scikit-learn.org/stable/modules/preprocessing.html\n",
      "Please also refer to the documentation for alternative solver options:\n",
      "    https://scikit-learn.org/stable/modules/linear_model.html#logistic-regression\n",
      "  n_iter_i = _check_optimize_result(\n",
      "/opt/conda/lib/python3.10/site-packages/sklearn/linear_model/_logistic.py:458: ConvergenceWarning: lbfgs failed to converge (status=1):\n",
      "STOP: TOTAL NO. of ITERATIONS REACHED LIMIT.\n",
      "\n",
      "Increase the number of iterations (max_iter) or scale the data as shown in:\n",
      "    https://scikit-learn.org/stable/modules/preprocessing.html\n",
      "Please also refer to the documentation for alternative solver options:\n",
      "    https://scikit-learn.org/stable/modules/linear_model.html#logistic-regression\n",
      "  n_iter_i = _check_optimize_result(\n",
      "/opt/conda/lib/python3.10/site-packages/sklearn/linear_model/_logistic.py:458: ConvergenceWarning: lbfgs failed to converge (status=1):\n",
      "STOP: TOTAL NO. of ITERATIONS REACHED LIMIT.\n",
      "\n",
      "Increase the number of iterations (max_iter) or scale the data as shown in:\n",
      "    https://scikit-learn.org/stable/modules/preprocessing.html\n",
      "Please also refer to the documentation for alternative solver options:\n",
      "    https://scikit-learn.org/stable/modules/linear_model.html#logistic-regression\n",
      "  n_iter_i = _check_optimize_result(\n"
     ]
    },
    {
     "name": "stdout",
     "output_type": "stream",
     "text": [
      "(logit no tfidf) \n",
      " Cross-validation mean accuracy  62.74%, std 0.20. \n",
      "\n"
     ]
    },
    {
     "name": "stderr",
     "output_type": "stream",
     "text": [
      "/opt/conda/lib/python3.10/site-packages/sklearn/linear_model/_logistic.py:458: ConvergenceWarning: lbfgs failed to converge (status=1):\n",
      "STOP: TOTAL NO. of ITERATIONS REACHED LIMIT.\n",
      "\n",
      "Increase the number of iterations (max_iter) or scale the data as shown in:\n",
      "    https://scikit-learn.org/stable/modules/preprocessing.html\n",
      "Please also refer to the documentation for alternative solver options:\n",
      "    https://scikit-learn.org/stable/modules/linear_model.html#logistic-regression\n",
      "  n_iter_i = _check_optimize_result(\n"
     ]
    },
    {
     "name": "stdout",
     "output_type": "stream",
     "text": [
      "(logit with tfidf) \n",
      " Cross-validation mean accuracy  62.11%, std 0.20. \n",
      "\n"
     ]
    },
    {
     "name": "stderr",
     "output_type": "stream",
     "text": [
      "/opt/conda/lib/python3.10/site-packages/sklearn/linear_model/_logistic.py:458: ConvergenceWarning: lbfgs failed to converge (status=1):\n",
      "STOP: TOTAL NO. of ITERATIONS REACHED LIMIT.\n",
      "\n",
      "Increase the number of iterations (max_iter) or scale the data as shown in:\n",
      "    https://scikit-learn.org/stable/modules/preprocessing.html\n",
      "Please also refer to the documentation for alternative solver options:\n",
      "    https://scikit-learn.org/stable/modules/linear_model.html#logistic-regression\n",
      "  n_iter_i = _check_optimize_result(\n",
      "/opt/conda/lib/python3.10/site-packages/sklearn/linear_model/_logistic.py:458: ConvergenceWarning: lbfgs failed to converge (status=1):\n",
      "STOP: TOTAL NO. of ITERATIONS REACHED LIMIT.\n",
      "\n",
      "Increase the number of iterations (max_iter) or scale the data as shown in:\n",
      "    https://scikit-learn.org/stable/modules/preprocessing.html\n",
      "Please also refer to the documentation for alternative solver options:\n",
      "    https://scikit-learn.org/stable/modules/linear_model.html#logistic-regression\n",
      "  n_iter_i = _check_optimize_result(\n"
     ]
    }
   ],
   "source": [
    "scores_NB = cross_val_score(modelNB, cv_features, y_train, scoring='accuracy', n_jobs=-1, cv=3)\n",
    "print('(NB no tfidf) \\n Cross-validation mean accuracy  {0:.2f}%, std {1:.2f}. \\n'.format(np.mean(scores_NB) * 100, np.std(scores_NB) * 100)) \n",
    "scores_NB_tf = cross_val_score(modelNBtfidf, tf_features, y_train_tf, scoring='accuracy', n_jobs=-1, cv=3)\n",
    "print('(NB with tfidf) \\n Cross-validation mean accuracy  {0:.2f}%, std {1:.2f}. \\n'.format(np.mean(scores_NB_tf) * 100, np.std(scores_NB) * 100)) \n",
    "scores_log = cross_val_score(logReg, cv_features, y_train, scoring='accuracy', n_jobs=-1, cv=3)\n",
    "print('(logit no tfidf) \\n Cross-validation mean accuracy  {0:.2f}%, std {1:.2f}. \\n'.format(np.mean(scores_log) * 100, np.std(scores_log) * 100))\n",
    "scores_log_tf = cross_val_score(logReg, tf_features, y_train_tf, scoring='accuracy', n_jobs=-1, cv=3)\n",
    "print('(logit with tfidf) \\n Cross-validation mean accuracy  {0:.2f}%, std {1:.2f}. \\n'.format(np.mean(scores_log_tf) * 100, np.std(scores_log) * 100))"
   ]
  },
  {
   "cell_type": "markdown",
   "metadata": {},
   "source": [
    "**Summary of Cross validation:**\n",
    "* (NB no tfidf) \n",
    " Cross-validation mean accuracy  59.91%, std 0.11. \n",
    "\n",
    "* (NB with tfidf) \n",
    " Cross-validation mean accuracy  58.82%, std 0.11. \n",
    "\n",
    "* (logit no tfidf) \n",
    " Cross-validation mean accuracy  62.74%, std 0.20. \n",
    "\n",
    "* (logit with tfidf) \n",
    " Cross-validation mean accuracy  62.11%, std 0.20. \n",
    "\n",
    "**It appears that tfidf performs slighltly worse. Notice that the standard deviations are quite low\n",
    "If one runs this after deleting the stopwords, one would see that the standard deviation of \n",
    "the cross val values is far greater, indicating a less stable model.**"
   ]
  },
  {
   "cell_type": "code",
   "execution_count": 114,
   "metadata": {
    "execution": {
     "iopub.execute_input": "2024-04-22T18:11:16.010944Z",
     "iopub.status.busy": "2024-04-22T18:11:16.010509Z",
     "iopub.status.idle": "2024-04-22T18:11:28.652968Z",
     "shell.execute_reply": "2024-04-22T18:11:28.651718Z",
     "shell.execute_reply.started": "2024-04-22T18:11:16.010911Z"
    }
   },
   "outputs": [
    {
     "name": "stdout",
     "output_type": "stream",
     "text": [
      "(31212, 10599)\n"
     ]
    },
    {
     "name": "stderr",
     "output_type": "stream",
     "text": [
      "/opt/conda/lib/python3.10/site-packages/sklearn/base.py:432: UserWarning: X has feature names, but MultinomialNB was fitted without feature names\n",
      "  warnings.warn(\n"
     ]
    },
    {
     "name": "stdout",
     "output_type": "stream",
     "text": [
      "(31212, 73759)\n"
     ]
    },
    {
     "name": "stderr",
     "output_type": "stream",
     "text": [
      "/opt/conda/lib/python3.10/site-packages/sklearn/base.py:432: UserWarning: X has feature names, but MultinomialNB was fitted without feature names\n",
      "  warnings.warn(\n"
     ]
    }
   ],
   "source": [
    "val_features = cv.transform(X_validate['Phrase'])\n",
    "print(val_features.shape)\n",
    "X_val = pd.DataFrame.sparse.from_spmatrix(val_features, columns=cv.get_feature_names_out())\n",
    "y_pred = modelNB.predict(X_val)\n",
    "## tfidf ## \n",
    "\n",
    "tfidf_val_features = tv.transform(X_val_tf['Phrase'])\n",
    "print(tfidf_val_features.shape)\n",
    "tfidf_X_val = pd.DataFrame.sparse.from_spmatrix(tfidf_val_features, columns=tv.get_feature_names_out())\n",
    "tfidf_y_pred = modelNBtfidf.predict(tfidf_X_val)"
   ]
  },
  {
   "cell_type": "markdown",
   "metadata": {},
   "source": [
    "# Additional Errors Analysis and Visualization\n",
    "**We will plot a heatmap of the confusion matrix for the various models. This is useful because while we lose accuracy if the model predicts a label wrong, if the correct label is 4 and one model predicts 3 vs another predicts 2, the first model is strictly better as it was closer to the correct prediction. The heatmap can give us some insights into these sorts of finer error analyses.**"
   ]
  },
  {
   "cell_type": "code",
   "execution_count": 127,
   "metadata": {
    "execution": {
     "iopub.execute_input": "2024-04-22T18:23:43.841677Z",
     "iopub.status.busy": "2024-04-22T18:23:43.841213Z",
     "iopub.status.idle": "2024-04-22T18:23:43.852138Z",
     "shell.execute_reply": "2024-04-22T18:23:43.850993Z",
     "shell.execute_reply.started": "2024-04-22T18:23:43.841642Z"
    }
   },
   "outputs": [],
   "source": [
    "from sklearn.metrics import accuracy_score, precision_score, recall_score, f1_score, confusion_matrix\n",
    "import matplotlib.pyplot as plt \n",
    "import seaborn as sns\n",
    "\n",
    "def print_performance(clf, X, y, tfidf_ = False, model_name=''):\n",
    "    y_pred = clf.predict(X)\n",
    "    \n",
    "    accuracy = accuracy_score(y_pred, y)\n",
    "    print(\"Accuracy: \", accuracy)\n",
    "    print(\"Precision:\", precision_score(y_pred, y, average='weighted'))\n",
    "    print(\"Recall:   \", recall_score(y_pred, y, average='weighted'))\n",
    "    print(\"F1 Score: \", f1_score(y_pred, y, average='weighted'))\n",
    "    \n",
    "    cm = confusion_matrix(y, y_pred)\n",
    "    \n",
    "    plt.figure(figsize=(9,9)) \n",
    "    sns.heatmap(cm, annot=True, fmt=\"d\", linewidths=.5, square = True, cmap = 'Blues_r');\n",
    "    plt.ylabel('Actual label');\n",
    "    plt.xlabel('Predicted label');\n",
    "    if tfidf_:\n",
    "        all_sample_title = 'Model: {1} \\n Accuracy Score with TFIDF: {0}'.format(accuracy,model_name)\n",
    "    else:\n",
    "        all_sample_title = 'Model: {1} \\n Accuracy Score with Count Vect.: {0}'.format(accuracy, model_name)\n",
    "    plt.title(all_sample_title, size = 15);"
   ]
  },
  {
   "cell_type": "code",
   "execution_count": 128,
   "metadata": {
    "execution": {
     "iopub.execute_input": "2024-04-22T18:23:46.057701Z",
     "iopub.status.busy": "2024-04-22T18:23:46.057278Z",
     "iopub.status.idle": "2024-04-22T18:23:47.026536Z",
     "shell.execute_reply": "2024-04-22T18:23:47.025414Z",
     "shell.execute_reply.started": "2024-04-22T18:23:46.057668Z"
    }
   },
   "outputs": [
    {
     "name": "stderr",
     "output_type": "stream",
     "text": [
      "/opt/conda/lib/python3.10/site-packages/sklearn/base.py:432: UserWarning: X has feature names, but MultinomialNB was fitted without feature names\n",
      "  warnings.warn(\n"
     ]
    },
    {
     "name": "stdout",
     "output_type": "stream",
     "text": [
      "Accuracy:  0.610886838395489\n",
      "Precision: 0.6565363214726032\n",
      "Recall:    0.610886838395489\n",
      "F1 Score:  0.6273491716168564\n"
     ]
    },
    {
     "data": {
      "image/png": "[encoded data removed]",
      "text/plain": [
       "<Figure size 900x900 with 2 Axes>"
      ]
     },
     "metadata": {},
     "output_type": "display_data"
    }
   ],
   "source": [
    "print_performance(modelNB, X_val, y_validate,model_name='Multinomial Naive Bayes')"
   ]
  },
  {
   "cell_type": "code",
   "execution_count": 129,
   "metadata": {
    "execution": {
     "iopub.execute_input": "2024-04-22T18:23:53.533072Z",
     "iopub.status.busy": "2024-04-22T18:23:53.532687Z",
     "iopub.status.idle": "2024-04-22T18:23:56.960514Z",
     "shell.execute_reply": "2024-04-22T18:23:56.959653Z",
     "shell.execute_reply.started": "2024-04-22T18:23:53.533043Z"
    }
   },
   "outputs": [
    {
     "name": "stderr",
     "output_type": "stream",
     "text": [
      "/opt/conda/lib/python3.10/site-packages/sklearn/base.py:432: UserWarning: X has feature names, but MultinomialNB was fitted without feature names\n",
      "  warnings.warn(\n"
     ]
    },
    {
     "name": "stdout",
     "output_type": "stream",
     "text": [
      "Accuracy:  0.6134499551454569\n",
      "Precision: 0.769872169768356\n",
      "Recall:    0.6134499551454569\n",
      "F1 Score:  0.6639018037827427\n"
     ]
    },
    {
     "data": {
      "image/png": "[encoded data removed]",
      "text/plain": [
       "<Figure size 900x900 with 2 Axes>"
      ]
     },
     "metadata": {},
     "output_type": "display_data"
    }
   ],
   "source": [
    "print_performance(modelNBtfidf, tfidf_X_val, y_val_tf, tfidf_=True,model_name='Multinomial Naive Bayes')"
   ]
  },
  {
   "cell_type": "markdown",
   "metadata": {},
   "source": [
    "**For the Multinomial NB model, tfidf does actually improve precision substantially (by about 10%). We see that with the count vectorizer, the confusion matrix is relatively balanced in its decay off the main diagonal (where we have no error). With the tfidf vectorizer, it appears that the classifier wants to predict a label of '2' for a large portion of the phrases, meaning it is treating more phrases as 'neutral' than the same model with the count vectorizer. This may actually be helping this model make up for it's poor accuracy on other sentiment scores, as it has a couple thousand more true positives for sentiment 2 than the model using the count vectorizer.** "
   ]
  },
  {
   "cell_type": "code",
   "execution_count": 130,
   "metadata": {
    "execution": {
     "iopub.execute_input": "2024-04-22T18:43:56.304141Z",
     "iopub.status.busy": "2024-04-22T18:43:56.303679Z",
     "iopub.status.idle": "2024-04-22T18:43:57.282162Z",
     "shell.execute_reply": "2024-04-22T18:43:57.281295Z",
     "shell.execute_reply.started": "2024-04-22T18:43:56.304107Z"
    }
   },
   "outputs": [
    {
     "name": "stderr",
     "output_type": "stream",
     "text": [
      "/opt/conda/lib/python3.10/site-packages/sklearn/base.py:432: UserWarning: X has feature names, but LogisticRegression was fitted without feature names\n",
      "  warnings.warn(\n"
     ]
    },
    {
     "name": "stdout",
     "output_type": "stream",
     "text": [
      "Accuracy:  0.6380558759451493\n",
      "Precision: 0.7113702680015408\n",
      "Recall:    0.6380558759451493\n",
      "F1 Score:  0.6615592527641795\n"
     ]
    },
    {
     "data": {
      "image/png": "[encoded data removed]",
      "text/plain": [
       "<Figure size 900x900 with 2 Axes>"
      ]
     },
     "metadata": {},
     "output_type": "display_data"
    }
   ],
   "source": [
    "print_performance(logReg, X_val, y_validate,model_name='Logistic Regression')"
   ]
  },
  {
   "cell_type": "code",
   "execution_count": 132,
   "metadata": {
    "execution": {
     "iopub.execute_input": "2024-04-22T18:44:34.702730Z",
     "iopub.status.busy": "2024-04-22T18:44:34.702292Z",
     "iopub.status.idle": "2024-04-22T18:44:38.168580Z",
     "shell.execute_reply": "2024-04-22T18:44:38.167430Z",
     "shell.execute_reply.started": "2024-04-22T18:44:34.702698Z"
    }
   },
   "outputs": [
    {
     "name": "stderr",
     "output_type": "stream",
     "text": [
      "/opt/conda/lib/python3.10/site-packages/sklearn/base.py:432: UserWarning: X has feature names, but LogisticRegression was fitted without feature names\n",
      "  warnings.warn(\n"
     ]
    },
    {
     "name": "stdout",
     "output_type": "stream",
     "text": [
      "Accuracy:  0.6349160579264386\n",
      "Precision: 0.7192992938590447\n",
      "Recall:    0.6349160579264386\n",
      "F1 Score:  0.6618199375015014\n"
     ]
    },
    {
     "data": {
      "image/png": "[encoded data removed]",
      "text/plain": [
       "<Figure size 900x900 with 2 Axes>"
      ]
     },
     "metadata": {},
     "output_type": "display_data"
    }
   ],
   "source": [
    "print_performance(logRegtfidf, tfidf_X_val, y_val_tf, tfidf_=True,model_name='Logistic Regression')"
   ]
  },
  {
   "cell_type": "markdown",
   "metadata": {},
   "source": [
    "**For the log regression model, the results are essentially identical with or without tfidf. The confusion matrices also look very similar. We also see log regression has a slight preference for predicting sentiment 2 for both the vectorizers, which is interesting.**"
   ]
  },
  {
   "cell_type": "markdown",
   "metadata": {},
   "source": [
    "**Now, we would predict off the test set and submit to kaggle.**"
   ]
  },
  {
   "cell_type": "code",
   "execution_count": 138,
   "metadata": {
    "execution": {
     "iopub.execute_input": "2024-04-22T18:46:58.574547Z",
     "iopub.status.busy": "2024-04-22T18:46:58.574112Z",
     "iopub.status.idle": "2024-04-22T18:46:58.580007Z",
     "shell.execute_reply": "2024-04-22T18:46:58.578846Z",
     "shell.execute_reply.started": "2024-04-22T18:46:58.574515Z"
    }
   },
   "outputs": [],
   "source": [
    "test_raw.head()\n",
    "phraseId=test_raw['PhraseId']"
   ]
  },
  {
   "cell_type": "code",
   "execution_count": 139,
   "metadata": {
    "execution": {
     "iopub.execute_input": "2024-04-22T18:46:59.876735Z",
     "iopub.status.busy": "2024-04-22T18:46:59.875908Z",
     "iopub.status.idle": "2024-04-22T18:47:02.173167Z",
     "shell.execute_reply": "2024-04-22T18:47:02.172272Z",
     "shell.execute_reply.started": "2024-04-22T18:46:59.876693Z"
    }
   },
   "outputs": [],
   "source": [
    "test_inputs = cv.transform(test_raw['Phrase'].values.astype('U'))\n",
    "test_inputs_tfidf = vectorizer.transform(test_raw['Phrase'].values.astype('U'))"
   ]
  },
  {
   "cell_type": "code",
   "execution_count": null,
   "metadata": {
    "execution": {
     "iopub.status.busy": "2024-04-21T20:38:55.411618Z",
     "iopub.status.idle": "2024-04-21T20:38:55.412332Z",
     "shell.execute_reply": "2024-04-21T20:38:55.412093Z",
     "shell.execute_reply.started": "2024-04-21T20:38:55.412064Z"
    }
   },
   "outputs": [],
   "source": [
    "X_test = pd.DataFrame.sparse.from_spmatrix(test_inputs, columns=cv.get_feature_names_out())\n",
    "X_test_tfidf = pd.DataFrame.sparse.from_spmatrix(test_inputs_tfidf, columns=vectorizer.get_feature_names_out())\n",
    "y_pred_logR = logReg.predict(X_test)\n",
    "y_pred_NB = modelNB.predict(X_test)\n",
    "y_pred_logR_tfidf = logRegtfidf.predict(X_test_tfidf)\n",
    "y_pred_NB_tfidf = modelNBtfidf.predict(X_test_tfidf)"
   ]
  },
  {
   "cell_type": "code",
   "execution_count": null,
   "metadata": {
    "execution": {
     "iopub.status.busy": "2024-04-21T20:38:55.413940Z",
     "iopub.status.idle": "2024-04-21T20:38:55.414655Z",
     "shell.execute_reply": "2024-04-21T20:38:55.414474Z",
     "shell.execute_reply.started": "2024-04-21T20:38:55.414455Z"
    }
   },
   "outputs": [],
   "source": [
    "submission = pd.DataFrame({\n",
    "    'PhraseId': phraseId,\n",
    "    'Sentiment': y_pred_NB_tfidf\n",
    "})\n",
    "submission.head()"
   ]
  },
  {
   "cell_type": "code",
   "execution_count": null,
   "metadata": {
    "execution": {
     "iopub.status.busy": "2024-04-21T20:38:55.415803Z",
     "iopub.status.idle": "2024-04-21T20:38:55.416870Z",
     "shell.execute_reply": "2024-04-21T20:38:55.416396Z",
     "shell.execute_reply.started": "2024-04-21T20:38:55.416367Z"
    }
   },
   "outputs": [],
   "source": [
    "submission.to_csv('/kaggle/working/submission.csv', index=False)"
   ]
  },
  {
   "cell_type": "code",
   "execution_count": null,
   "metadata": {},
   "outputs": [],
   "source": [
    "# The best models from the above achieve ~ 56% accuracy on the submission test set. "
   ]
  },
  {
   "cell_type": "markdown",
   "metadata": {},
   "source": [
    "# Future: Deep Learning\n",
    "**To improve from here, one would likely need to take a deep learning approach. This is something I'm interested in doing in the future but need to do more research on how to build an effective NN architecture for NLP.**"
   ]
  },
  {
   "cell_type": "code",
   "execution_count": null,
   "metadata": {},
   "outputs": [],
   "source": []
  }
 ],
 "metadata": {
  "kaggle": {
   "accelerator": "none",
   "dataSources": [
    {
     "databundleVersionId": 32092,
     "sourceId": 3810,
     "sourceType": "competition"
    }
   ],
   "dockerImageVersionId": 30684,
   "isGpuEnabled": false,
   "isInternetEnabled": true,
   "language": "python",
   "sourceType": "notebook"
  },
  "kernelspec": {
   "display_name": "Python 3 (ipykernel)",
   "language": "python",
   "name": "python3"
  },
  "language_info": {
   "codemirror_mode": {
    "name": "ipython",
    "version": 3
   },
   "file_extension": ".py",
   "mimetype": "text/x-python",
   "name": "python",
   "nbconvert_exporter": "python",
   "pygments_lexer": "ipython3",
   "version": "3.11.5"
  }
 },
 "nbformat": 4,
 "nbformat_minor": 4
}
